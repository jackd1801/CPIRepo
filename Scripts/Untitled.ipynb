{
 "cells": [
  {
   "cell_type": "code",
   "execution_count": null,
   "id": "e6baba8c-4c16-4d08-8c27-ed2b77e9872e",
   "metadata": {},
   "outputs": [
    {
     "name": "stderr",
     "output_type": "stream",
     "text": [
      "Registered S3 methods overwritten by 'ggplot2':\n",
      "  method         from \n",
      "  [.quosures     rlang\n",
      "  c.quosures     rlang\n",
      "  print.quosures rlang\n",
      "Registered S3 method overwritten by 'rvest':\n",
      "  method            from\n",
      "  read_xml.response xml2\n",
      "-- Attaching packages --------------------------------------- tidyverse 1.2.1 --\n",
      "v ggplot2 3.1.1       v purrr   0.3.2  \n",
      "v tibble  2.1.1       v dplyr   0.8.0.1\n",
      "v tidyr   0.8.3       v stringr 1.4.0  \n",
      "v readr   1.3.1       v forcats 0.4.0  \n",
      "-- Conflicts ------------------------------------------ tidyverse_conflicts() --\n",
      "x dplyr::filter() masks stats::filter()\n",
      "x dplyr::lag()    masks stats::lag()\n",
      "also installing the dependencies 'fastmap', 'glue', 'tibble', 'pillar', 'htmltools', 'dplyr', 'lifecycle', 'tidyselect', 'cpp11', 'cli', 'htmlwidgets', 'tidyr', 'vctrs', 'rlang', 'crosstalk'\n",
      "\n"
     ]
    },
    {
     "name": "stdout",
     "output_type": "stream",
     "text": [
      "\n",
      "  There are binary versions available but the source versions are later:\n",
      "             binary source needs_compilation\n",
      "glue          1.4.2  1.6.2              TRUE\n",
      "tibble        3.1.1  3.1.8              TRUE\n",
      "pillar        1.6.0  1.8.1             FALSE\n",
      "htmltools   0.5.1.1  0.5.4              TRUE\n",
      "dplyr         1.0.6 1.0.10              TRUE\n",
      "lifecycle     1.0.0  1.0.3             FALSE\n",
      "tidyselect    1.1.1  1.2.0             FALSE\n",
      "cpp11         0.2.7  0.4.3             FALSE\n",
      "cli           2.5.0  3.6.0              TRUE\n",
      "htmlwidgets   1.5.3  1.6.1             FALSE\n",
      "tidyr         1.1.3  1.2.1              TRUE\n",
      "vctrs         0.3.8  0.5.1              TRUE\n",
      "rlang        0.4.11  1.0.6              TRUE\n",
      "crosstalk     1.1.1  1.2.0             FALSE\n",
      "plotly        4.9.3 4.10.1             FALSE\n",
      "\n",
      "  Binaries will be installed\n"
     ]
    },
    {
     "name": "stderr",
     "output_type": "stream",
     "text": [
      "Warning message:\n",
      "\"packages 'tibble', 'dplyr', 'tidyr' are in use and will not be installed\""
     ]
    }
   ],
   "source": [
    "library('tidyverse')\n",
    "library('readxl')\n",
    "install.packages('plotly')\n",
    "library('plotly')"
   ]
  },
  {
   "cell_type": "code",
   "execution_count": null,
   "id": "6b57a25d-c833-4e9c-98c2-072aa8bf4fc9",
   "metadata": {},
   "outputs": [],
   "source": [
    "cpi_data <- function(file_name){\n",
    "Sources = c(\"Rural\", \"Urban\", \"All Rwanda\")\n",
    "datalist = list()\n",
    "datalist = vector(\"list\", length = length(Sources))\n",
    "for (i in Sources) {\n",
    "  data <- read_excel(file_name, sheet=i, skip=3, col_names=TRUE)%>%\n",
    "    slice(-1,-20)%>%\n",
    "    rename(Province = \"...1\",\n",
    "           U_R = \"...2\",\n",
    "           COICOP = \"...3\",\n",
    "           Products = \"...4\")%>%\n",
    "    pivot_longer(!c(Province, U_R, COICOP, Products, Weights), names_to = \"Date\", values_to = \"Index\")%>%\n",
    "    mutate(Date = as.Date(as.numeric(Date), origin = \"1899-12-30\"),\n",
    "           Products = gsub(\"v\", \"\", Products),\n",
    "           Products = str_squish(Products),\n",
    "           Source = i)\n",
    "  datalist[[i]] <- data\n",
    "}\n",
    "combined = do.call(rbind, datalist)\n",
    "return(combined)\n",
    "}\n"
   ]
  },
  {
   "cell_type": "code",
   "execution_count": null,
   "id": "30aeb8cd-3abb-4988-880f-3a0d08c9a2c5",
   "metadata": {},
   "outputs": [],
   "source": [
    "data <- cpi_data('/Data/CPI_time_series_November_2022.xls')\n",
    "\n",
    "data\n",
    "                 "
   ]
  }
 ],
 "metadata": {
  "kernelspec": {
   "display_name": "R",
   "language": "R",
   "name": "ir"
  },
  "language_info": {
   "codemirror_mode": "r",
   "file_extension": ".r",
   "mimetype": "text/x-r-source",
   "name": "R",
   "pygments_lexer": "r",
   "version": "3.6.1"
  }
 },
 "nbformat": 4,
 "nbformat_minor": 5
}
